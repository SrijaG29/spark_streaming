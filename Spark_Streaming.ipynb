{
  "cells": [
    {
      "cell_type": "markdown",
      "metadata": {
        "id": "view-in-github",
        "colab_type": "text"
      },
      "source": [
        "<a href=\"https://colab.research.google.com/github/SrijaG29/spark_streaming/blob/main/Spark_Streaming.ipynb\" target=\"_parent\"><img src=\"https://colab.research.google.com/assets/colab-badge.svg\" alt=\"Open In Colab\"/></a>"
      ]
    },
    {
      "cell_type": "code",
      "source": [
        "!pip install pyspark"
      ],
      "metadata": {
        "colab": {
          "base_uri": "https://localhost:8080/"
        },
        "id": "bvw1VFldFwPM",
        "outputId": "8512818d-f351-406a-c42b-d71be6ce22a5"
      },
      "execution_count": 2,
      "outputs": [
        {
          "output_type": "stream",
          "name": "stdout",
          "text": [
            "Collecting pyspark\n",
            "  Downloading pyspark-3.5.1.tar.gz (317.0 MB)\n",
            "\u001b[2K     \u001b[90m━━━━━━━━━━━━━━━━━━━━━━━━━━━━━━━━━━━━━━━━\u001b[0m \u001b[32m317.0/317.0 MB\u001b[0m \u001b[31m2.7 MB/s\u001b[0m eta \u001b[36m0:00:00\u001b[0m\n",
            "\u001b[?25h  Preparing metadata (setup.py) ... \u001b[?25l\u001b[?25hdone\n",
            "Requirement already satisfied: py4j==0.10.9.7 in /usr/local/lib/python3.10/dist-packages (from pyspark) (0.10.9.7)\n",
            "Building wheels for collected packages: pyspark\n",
            "  Building wheel for pyspark (setup.py) ... \u001b[?25l\u001b[?25hdone\n",
            "  Created wheel for pyspark: filename=pyspark-3.5.1-py2.py3-none-any.whl size=317488490 sha256=0bcd11bb4e7ad1b615644cd6a13af63f77e8fa20c6f8c39bb066a2a9f2278aa3\n",
            "  Stored in directory: /root/.cache/pip/wheels/80/1d/60/2c256ed38dddce2fdd93be545214a63e02fbd8d74fb0b7f3a6\n",
            "Successfully built pyspark\n",
            "Installing collected packages: pyspark\n",
            "Successfully installed pyspark-3.5.1\n"
          ]
        }
      ]
    },
    {
      "cell_type": "markdown",
      "source": [
        "**Pyspark Streaming:**"
      ],
      "metadata": {
        "id": "7ZIopeBqEB0M"
      }
    },
    {
      "cell_type": "markdown",
      "source": [
        "Create a spark session."
      ],
      "metadata": {
        "id": "cQq06I-AEHkv"
      }
    },
    {
      "cell_type": "code",
      "execution_count": 7,
      "metadata": {
        "id": "zwFnJsE6vjf8",
        "colab": {
          "base_uri": "https://localhost:8080/",
          "height": 219
        },
        "outputId": "6f8de86e-13da-4370-96af-91f2eb13699b"
      },
      "outputs": [
        {
          "output_type": "execute_result",
          "data": {
            "text/plain": [
              "<pyspark.sql.session.SparkSession at 0x7d58af0be440>"
            ],
            "text/html": [
              "\n",
              "            <div>\n",
              "                <p><b>SparkSession - in-memory</b></p>\n",
              "                \n",
              "        <div>\n",
              "            <p><b>SparkContext</b></p>\n",
              "\n",
              "            <p><a href=\"http://925e9db39240:4040\">Spark UI</a></p>\n",
              "\n",
              "            <dl>\n",
              "              <dt>Version</dt>\n",
              "                <dd><code>v3.5.1</code></dd>\n",
              "              <dt>Master</dt>\n",
              "                <dd><code>local[*]</code></dd>\n",
              "              <dt>AppName</dt>\n",
              "                <dd><code>temp</code></dd>\n",
              "            </dl>\n",
              "        </div>\n",
              "        \n",
              "            </div>\n",
              "        "
            ]
          },
          "metadata": {},
          "execution_count": 7
        }
      ],
      "source": [
        "from pyspark.sql import SparkSession\n",
        "\n",
        "spark = (\n",
        "    SparkSession\n",
        "    .builder\n",
        "    .appName(\"Spark Streaming\")\n",
        "    .master(\"local[*]\")\n",
        "    .getOrCreate()\n",
        ")\n",
        "\n",
        "spark"
      ]
    },
    {
      "cell_type": "markdown",
      "source": [
        "Iam creating a text file to use in spark streaming."
      ],
      "metadata": {
        "id": "TE5ZimOUEoF2"
      }
    },
    {
      "cell_type": "code",
      "source": [
        "with open('Example.txt','w') as f:\n",
        "  f.write('simon has a dog and a cat the dog and cat used to love simon')"
      ],
      "metadata": {
        "id": "bGxhBFYxEm-4"
      },
      "execution_count": 8,
      "outputs": []
    },
    {
      "cell_type": "code",
      "source": [
        "with open('Example.txt','r') as f:\n",
        "  x = f.read()\n",
        "  print(x)"
      ],
      "metadata": {
        "colab": {
          "base_uri": "https://localhost:8080/"
        },
        "id": "5hN_8fraFJer",
        "outputId": "6810a8f0-f107-4170-fe8e-cb3a0e4075f8"
      },
      "execution_count": 9,
      "outputs": [
        {
          "output_type": "stream",
          "name": "stdout",
          "text": [
            "simon has a dog and a cat the dog and cat used to love simon\n"
          ]
        }
      ]
    },
    {
      "cell_type": "markdown",
      "source": [
        "Now we will read data from the text."
      ],
      "metadata": {
        "id": "5sV7uD_XFeH-"
      }
    },
    {
      "cell_type": "code",
      "source": [
        "df_raw = spark.read.format(\"text\").load('/content/Example.txt')\n",
        "df_raw.printSchema()"
      ],
      "metadata": {
        "colab": {
          "base_uri": "https://localhost:8080/"
        },
        "id": "c5IPxab7Fb6W",
        "outputId": "4d8d6dd2-4b76-45b2-c3a2-183791cce4eb"
      },
      "execution_count": 10,
      "outputs": [
        {
          "output_type": "stream",
          "name": "stdout",
          "text": [
            "root\n",
            " |-- value: string (nullable = true)\n",
            "\n"
          ]
        }
      ]
    },
    {
      "cell_type": "code",
      "source": [
        "df_raw.show()"
      ],
      "metadata": {
        "colab": {
          "base_uri": "https://localhost:8080/"
        },
        "id": "MWflzpuGGFFB",
        "outputId": "f33499e3-e80f-449d-c23a-71d1c7645983"
      },
      "execution_count": 11,
      "outputs": [
        {
          "output_type": "stream",
          "name": "stdout",
          "text": [
            "+--------------------+\n",
            "|               value|\n",
            "+--------------------+\n",
            "|simon has a dog a...|\n",
            "+--------------------+\n",
            "\n"
          ]
        }
      ]
    },
    {
      "cell_type": "markdown",
      "source": [
        "Inside show if we use truncate = False then it will print complete data instead of above show statement."
      ],
      "metadata": {
        "id": "Ndog2yCmGKFs"
      }
    },
    {
      "cell_type": "code",
      "source": [
        "# from os import truncate\n",
        "df_raw.show(truncate = False)"
      ],
      "metadata": {
        "colab": {
          "base_uri": "https://localhost:8080/"
        },
        "id": "JlY6GrpJGVFZ",
        "outputId": "b99f4494-0306-469a-859c-f2f38d808dac"
      },
      "execution_count": 12,
      "outputs": [
        {
          "output_type": "stream",
          "name": "stdout",
          "text": [
            "+------------------------------------------------------------+\n",
            "|value                                                       |\n",
            "+------------------------------------------------------------+\n",
            "|simon has a dog and a cat the dog and cat used to love simon|\n",
            "+------------------------------------------------------------+\n",
            "\n"
          ]
        }
      ]
    },
    {
      "cell_type": "markdown",
      "source": [
        "Now we need to count the repetition of each word so for that 1st we need to split this sentence into words"
      ],
      "metadata": {
        "id": "I2OICtPaHcHg"
      }
    },
    {
      "cell_type": "markdown",
      "source": [
        "So we will import split function."
      ],
      "metadata": {
        "id": "492Ri_oiIK7t"
      }
    },
    {
      "cell_type": "code",
      "source": [
        "from pyspark.sql.functions import split"
      ],
      "metadata": {
        "id": "JyU_7R5wIeWN"
      },
      "execution_count": 13,
      "outputs": []
    },
    {
      "cell_type": "code",
      "source": [
        "df_words = df_raw.withColumn('words',split('value',' '))"
      ],
      "metadata": {
        "id": "3x60XzvhHYJW"
      },
      "execution_count": 14,
      "outputs": []
    },
    {
      "cell_type": "code",
      "source": [
        "df_words.show(truncate = False)"
      ],
      "metadata": {
        "colab": {
          "base_uri": "https://localhost:8080/"
        },
        "id": "0vG4um2KIk2z",
        "outputId": "0cf3ec30-39d3-4dfa-a3e7-22c5f9d05dcd"
      },
      "execution_count": 15,
      "outputs": [
        {
          "output_type": "stream",
          "name": "stdout",
          "text": [
            "+------------------------------------------------------------+----------------------------------------------------------------------------+\n",
            "|value                                                       |words                                                                       |\n",
            "+------------------------------------------------------------+----------------------------------------------------------------------------+\n",
            "|simon has a dog and a cat the dog and cat used to love simon|[simon, has, a, dog, and, a, cat, the, dog, and, cat, used, to, love, simon]|\n",
            "+------------------------------------------------------------+----------------------------------------------------------------------------+\n",
            "\n"
          ]
        }
      ]
    },
    {
      "cell_type": "markdown",
      "source": [
        "now we need to explode the list into seperate words."
      ],
      "metadata": {
        "id": "JlUFE1nFIwlf"
      }
    },
    {
      "cell_type": "markdown",
      "source": [
        "So for that we need to import explode."
      ],
      "metadata": {
        "id": "kgN6HZGVI3z4"
      }
    },
    {
      "cell_type": "code",
      "source": [
        "from pyspark.sql.functions import explode"
      ],
      "metadata": {
        "id": "1PgF19-XIo-8"
      },
      "execution_count": 16,
      "outputs": []
    },
    {
      "cell_type": "code",
      "source": [
        "df_explode = df_words.withColumn('word',explode('words'))\n",
        "df_explode.show(truncate = False)"
      ],
      "metadata": {
        "colab": {
          "base_uri": "https://localhost:8080/"
        },
        "id": "7MkBpoEfJAq9",
        "outputId": "448266f4-9747-481e-da28-2fbc0ac8e432"
      },
      "execution_count": 17,
      "outputs": [
        {
          "output_type": "stream",
          "name": "stdout",
          "text": [
            "+------------------------------------------------------------+----------------------------------------------------------------------------+-----+\n",
            "|value                                                       |words                                                                       |word |\n",
            "+------------------------------------------------------------+----------------------------------------------------------------------------+-----+\n",
            "|simon has a dog and a cat the dog and cat used to love simon|[simon, has, a, dog, and, a, cat, the, dog, and, cat, used, to, love, simon]|simon|\n",
            "|simon has a dog and a cat the dog and cat used to love simon|[simon, has, a, dog, and, a, cat, the, dog, and, cat, used, to, love, simon]|has  |\n",
            "|simon has a dog and a cat the dog and cat used to love simon|[simon, has, a, dog, and, a, cat, the, dog, and, cat, used, to, love, simon]|a    |\n",
            "|simon has a dog and a cat the dog and cat used to love simon|[simon, has, a, dog, and, a, cat, the, dog, and, cat, used, to, love, simon]|dog  |\n",
            "|simon has a dog and a cat the dog and cat used to love simon|[simon, has, a, dog, and, a, cat, the, dog, and, cat, used, to, love, simon]|and  |\n",
            "|simon has a dog and a cat the dog and cat used to love simon|[simon, has, a, dog, and, a, cat, the, dog, and, cat, used, to, love, simon]|a    |\n",
            "|simon has a dog and a cat the dog and cat used to love simon|[simon, has, a, dog, and, a, cat, the, dog, and, cat, used, to, love, simon]|cat  |\n",
            "|simon has a dog and a cat the dog and cat used to love simon|[simon, has, a, dog, and, a, cat, the, dog, and, cat, used, to, love, simon]|the  |\n",
            "|simon has a dog and a cat the dog and cat used to love simon|[simon, has, a, dog, and, a, cat, the, dog, and, cat, used, to, love, simon]|dog  |\n",
            "|simon has a dog and a cat the dog and cat used to love simon|[simon, has, a, dog, and, a, cat, the, dog, and, cat, used, to, love, simon]|and  |\n",
            "|simon has a dog and a cat the dog and cat used to love simon|[simon, has, a, dog, and, a, cat, the, dog, and, cat, used, to, love, simon]|cat  |\n",
            "|simon has a dog and a cat the dog and cat used to love simon|[simon, has, a, dog, and, a, cat, the, dog, and, cat, used, to, love, simon]|used |\n",
            "|simon has a dog and a cat the dog and cat used to love simon|[simon, has, a, dog, and, a, cat, the, dog, and, cat, used, to, love, simon]|to   |\n",
            "|simon has a dog and a cat the dog and cat used to love simon|[simon, has, a, dog, and, a, cat, the, dog, and, cat, used, to, love, simon]|love |\n",
            "|simon has a dog and a cat the dog and cat used to love simon|[simon, has, a, dog, and, a, cat, the, dog, and, cat, used, to, love, simon]|simon|\n",
            "+------------------------------------------------------------+----------------------------------------------------------------------------+-----+\n",
            "\n"
          ]
        }
      ]
    },
    {
      "cell_type": "markdown",
      "source": [
        "Now we have got all the words inside the text file in word column so we wiil drop rest of the columns."
      ],
      "metadata": {
        "id": "KRq3lNsRJQTr"
      }
    },
    {
      "cell_type": "code",
      "source": [
        "df_explode = df_explode.drop('value','words')\n",
        "df_explode.show(truncate = False)\n",
        "\n",
        "which of the most classes or neither thread share nor mutable is it true according to java"
      ],
      "metadata": {
        "colab": {
          "base_uri": "https://localhost:8080/"
        },
        "id": "IyilUWqLJWwl",
        "outputId": "f72b64a1-25e3-4608-85ec-b85ff4f3b0bc"
      },
      "execution_count": 18,
      "outputs": [
        {
          "output_type": "stream",
          "name": "stdout",
          "text": [
            "+-----+\n",
            "|word |\n",
            "+-----+\n",
            "|simon|\n",
            "|has  |\n",
            "|a    |\n",
            "|dog  |\n",
            "|and  |\n",
            "|a    |\n",
            "|cat  |\n",
            "|the  |\n",
            "|dog  |\n",
            "|and  |\n",
            "|cat  |\n",
            "|used |\n",
            "|to   |\n",
            "|love |\n",
            "|simon|\n",
            "+-----+\n",
            "\n"
          ]
        }
      ]
    },
    {
      "cell_type": "markdown",
      "source": [
        "Now we will count the no_of occurances of each word.\n",
        "\n",
        "For that we need to use groupBy and agg functions"
      ],
      "metadata": {
        "id": "F7VLczQyJiCv"
      }
    },
    {
      "cell_type": "code",
      "source": [
        "from pyspark.sql.functions import count\n",
        "df_agg = df_explode.groupBy('word').agg(count('*').alias('word_count')).col\n",
        "df_agg.show(truncate = False)"
      ],
      "metadata": {
        "colab": {
          "base_uri": "https://localhost:8080/"
        },
        "id": "yOSeiKhTJhJu",
        "outputId": "8c6d4a23-656b-4e82-a7fe-80a432b1e78f"
      },
      "execution_count": 67,
      "outputs": [
        {
          "output_type": "stream",
          "name": "stdout",
          "text": [
            "+-----+----------+\n",
            "|word |word_count|\n",
            "+-----+----------+\n",
            "|used |1         |\n",
            "|simon|2         |\n",
            "|dog  |2         |\n",
            "|love |1         |\n",
            "|cat  |2         |\n",
            "|the  |1         |\n",
            "|and  |2         |\n",
            "|a    |2         |\n",
            "|has  |1         |\n",
            "|to   |1         |\n",
            "+-----+----------+\n",
            "\n"
          ]
        }
      ]
    },
    {
      "cell_type": "markdown",
      "source": [
        "Counting Unique Values."
      ],
      "metadata": {
        "id": "Dpw4VmGy33PL"
      }
    },
    {
      "cell_type": "code",
      "source": [
        "df_unique = df_explode.select('word').distinct()\n",
        "df_unique.show()"
      ],
      "metadata": {
        "id": "fNMoeoUZ323r",
        "outputId": "813b0f98-c5b0-4b97-e909-51411301c35e",
        "colab": {
          "base_uri": "https://localhost:8080/"
        }
      },
      "execution_count": 26,
      "outputs": [
        {
          "output_type": "stream",
          "name": "stdout",
          "text": [
            "+-----+\n",
            "| word|\n",
            "+-----+\n",
            "| used|\n",
            "|simon|\n",
            "|  dog|\n",
            "| love|\n",
            "|  cat|\n",
            "|  the|\n",
            "|  and|\n",
            "|    a|\n",
            "|  has|\n",
            "|   to|\n",
            "+-----+\n",
            "\n"
          ]
        }
      ]
    },
    {
      "cell_type": "markdown",
      "source": [
        "Filtering Rows. if len of word greater than 3 then you need to print."
      ],
      "metadata": {
        "id": "BbNQ-Fin4wRz"
      }
    },
    {
      "cell_type": "code",
      "source": [
        "from pyspark.sql.functions import col\n",
        "from pyspark.sql.functions import length\n",
        "x = df_explode.filter(length(col('word')) > 3)\n",
        "x.show(truncate = False)"
      ],
      "metadata": {
        "id": "OyT97Fuh4xIQ",
        "outputId": "b76f5cd1-1ad9-404d-8fa6-99ad17cec319",
        "colab": {
          "base_uri": "https://localhost:8080/"
        }
      },
      "execution_count": 64,
      "outputs": [
        {
          "output_type": "stream",
          "name": "stdout",
          "text": [
            "+-----+\n",
            "|word |\n",
            "+-----+\n",
            "|simon|\n",
            "|used |\n",
            "|love |\n",
            "|simon|\n",
            "+-----+\n",
            "\n"
          ]
        }
      ]
    },
    {
      "cell_type": "markdown",
      "source": [
        "Calculating Average.\n",
        "\n",
        "Generally we will get output in double float form i want ans in integer."
      ],
      "metadata": {
        "id": "QmNh1ttM8P8d"
      }
    },
    {
      "cell_type": "markdown",
      "source": [
        "**Cast('Required datatype')** is used to change the datatype form one format to another."
      ],
      "metadata": {
        "id": "k8uq7r5w8mc8"
      }
    },
    {
      "cell_type": "markdown",
      "source": [
        "This will return a datatframe as output."
      ],
      "metadata": {
        "id": "pzt5YR9c9gxW"
      }
    },
    {
      "cell_type": "code",
      "source": [
        "from pyspark.sql.functions import avg, length, round\n",
        "\n",
        "avg_length = df_explode.select(round(avg(length(col('word'))),0).cast('int').alias('avg length of words'))\n",
        "avg_length.show(truncate = False)"
      ],
      "metadata": {
        "id": "OyhIsnkh55OC",
        "outputId": "40a1c112-f388-416b-dbde-32d43687e67d",
        "colab": {
          "base_uri": "https://localhost:8080/"
        }
      },
      "execution_count": 65,
      "outputs": [
        {
          "output_type": "stream",
          "name": "stdout",
          "text": [
            "+-------------------+\n",
            "|avg length of words|\n",
            "+-------------------+\n",
            "|3                  |\n",
            "+-------------------+\n",
            "\n"
          ]
        }
      ]
    },
    {
      "cell_type": "markdown",
      "source": [
        "This will return as normal text as output.\n",
        "\n",
        "**Collect:**\n",
        "The collect method retrieves the data from the DataFrame to the driver program as a list of rows. It’s a way to pull the computed data into the local Python environment."
      ],
      "metadata": {
        "id": "dx8nNfQf9kTT"
      }
    },
    {
      "cell_type": "code",
      "source": [
        "from pyspark.sql.functions import avg, length, round\n",
        "\n",
        "avg_length = df_explode.select(round(avg(length(col('word'))),0).cast('int').alias('avg length of words')).collect()[0][0]\n",
        "print('average length is: ',avg_length)"
      ],
      "metadata": {
        "id": "FZOSbzVV9J10",
        "outputId": "77f5d328-7912-40dd-8dd5-7a47668d47a9",
        "colab": {
          "base_uri": "https://localhost:8080/"
        }
      },
      "execution_count": 55,
      "outputs": [
        {
          "output_type": "stream",
          "name": "stdout",
          "text": [
            "average length is:  3\n"
          ]
        }
      ]
    },
    {
      "cell_type": "code",
      "source": [
        "from pyspark.sql import SparkSession\n",
        "Spark = (\n",
        "    SparkSession\n",
        "    .builder\n",
        "    .appName('temp')\n",
        "    .config('spark.streaming.stopGracefullyOnShutdown',True)\n",
        "    .master(\"local[*]\")\n",
        "    .getOrCreate()\n",
        ")"
      ],
      "metadata": {
        "id": "U6KzQ0YzR5Tz"
      },
      "execution_count": null,
      "outputs": []
    }
  ],
  "metadata": {
    "colab": {
      "name": "Welcome To Colab",
      "provenance": [],
      "include_colab_link": true
    },
    "kernelspec": {
      "display_name": "Python 3",
      "name": "python3"
    }
  },
  "nbformat": 4,
  "nbformat_minor": 0
}