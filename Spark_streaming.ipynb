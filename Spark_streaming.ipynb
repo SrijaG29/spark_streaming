{
  "cells": [
    {
      "cell_type": "markdown",
      "metadata": {
        "id": "view-in-github",
        "colab_type": "text"
      },
      "source": [
        "<a href=\"https://colab.research.google.com/github/SrijaG29/spark_streaming/blob/main/Spark_streaming.ipynb\" target=\"_parent\"><img src=\"https://colab.research.google.com/assets/colab-badge.svg\" alt=\"Open In Colab\"/></a>"
      ]
    },
    {
      "cell_type": "code",
      "source": [
        "!pip install pyspark"
      ],
      "metadata": {
        "id": "bvw1VFldFwPM",
        "outputId": "6f04b0b4-d039-40c4-b634-ec4046d60f4f",
        "colab": {
          "base_uri": "https://localhost:8080/"
        }
      },
      "execution_count": 1,
      "outputs": [
        {
          "output_type": "stream",
          "name": "stdout",
          "text": [
            "Requirement already satisfied: pyspark in /usr/local/lib/python3.10/dist-packages (3.5.1)\n",
            "Requirement already satisfied: py4j==0.10.9.7 in /usr/local/lib/python3.10/dist-packages (from pyspark) (0.10.9.7)\n"
          ]
        }
      ]
    },
    {
      "cell_type": "markdown",
      "source": [
        "**Pyspark Streaming:**"
      ],
      "metadata": {
        "id": "7ZIopeBqEB0M"
      }
    },
    {
      "cell_type": "markdown",
      "source": [
        "Create a spark session."
      ],
      "metadata": {
        "id": "cQq06I-AEHkv"
      }
    },
    {
      "cell_type": "code",
      "execution_count": 2,
      "metadata": {
        "id": "zwFnJsE6vjf8",
        "outputId": "7e772a55-02c7-488b-b3f5-6861a35983c7",
        "colab": {
          "base_uri": "https://localhost:8080/",
          "height": 219
        }
      },
      "outputs": [
        {
          "output_type": "execute_result",
          "data": {
            "text/plain": [
              "<pyspark.sql.session.SparkSession at 0x7d75ec13e3b0>"
            ],
            "text/html": [
              "\n",
              "            <div>\n",
              "                <p><b>SparkSession - in-memory</b></p>\n",
              "                \n",
              "        <div>\n",
              "            <p><b>SparkContext</b></p>\n",
              "\n",
              "            <p><a href=\"http://2f2a8f8a0256:4040\">Spark UI</a></p>\n",
              "\n",
              "            <dl>\n",
              "              <dt>Version</dt>\n",
              "                <dd><code>v3.5.1</code></dd>\n",
              "              <dt>Master</dt>\n",
              "                <dd><code>local[*]</code></dd>\n",
              "              <dt>AppName</dt>\n",
              "                <dd><code>Spark Streaming</code></dd>\n",
              "            </dl>\n",
              "        </div>\n",
              "        \n",
              "            </div>\n",
              "        "
            ]
          },
          "metadata": {},
          "execution_count": 2
        }
      ],
      "source": [
        "from pyspark.sql import SparkSession\n",
        "\n",
        "spark = (\n",
        "    SparkSession\n",
        "    .builder\n",
        "    .appName(\"Spark Streaming\")\n",
        "    .master(\"local[*]\")\n",
        "    .getOrCreate()\n",
        ")\n",
        "\n",
        "spark"
      ]
    },
    {
      "cell_type": "markdown",
      "source": [
        "Iam creating a text file to use in spark streaming."
      ],
      "metadata": {
        "id": "TE5ZimOUEoF2"
      }
    },
    {
      "cell_type": "code",
      "source": [
        "with open('Example.txt','w') as f:\n",
        "  f.write('simon has a dog and a cat the dog and cat used to love simon')"
      ],
      "metadata": {
        "id": "bGxhBFYxEm-4"
      },
      "execution_count": 3,
      "outputs": []
    },
    {
      "cell_type": "code",
      "source": [
        "with open('Example.txt','r') as f:\n",
        "  x = f.read()\n",
        "  print(x)"
      ],
      "metadata": {
        "id": "5hN_8fraFJer",
        "outputId": "072e3944-1a3b-4c17-d751-aebda7d62942",
        "colab": {
          "base_uri": "https://localhost:8080/"
        }
      },
      "execution_count": 4,
      "outputs": [
        {
          "output_type": "stream",
          "name": "stdout",
          "text": [
            "simon has a dog and a cat the dog and cat used to love simon\n"
          ]
        }
      ]
    },
    {
      "cell_type": "markdown",
      "source": [
        "Now we will read data from the text."
      ],
      "metadata": {
        "id": "5sV7uD_XFeH-"
      }
    },
    {
      "cell_type": "code",
      "source": [
        "df_raw = spark.read.format(\"text\").load('/content/Example.txt')\n",
        "df_raw.printSchema()"
      ],
      "metadata": {
        "id": "c5IPxab7Fb6W",
        "outputId": "0c740130-1ed4-456a-ca1c-c21652c05518",
        "colab": {
          "base_uri": "https://localhost:8080/"
        }
      },
      "execution_count": 5,
      "outputs": [
        {
          "output_type": "stream",
          "name": "stdout",
          "text": [
            "root\n",
            " |-- value: string (nullable = true)\n",
            "\n"
          ]
        }
      ]
    },
    {
      "cell_type": "code",
      "source": [
        "df_raw.show()"
      ],
      "metadata": {
        "id": "MWflzpuGGFFB",
        "outputId": "bba190a0-3c74-4e0d-80ad-5fb295ec69cd",
        "colab": {
          "base_uri": "https://localhost:8080/"
        }
      },
      "execution_count": 6,
      "outputs": [
        {
          "output_type": "stream",
          "name": "stdout",
          "text": [
            "+--------------------+\n",
            "|               value|\n",
            "+--------------------+\n",
            "|simon has a dog a...|\n",
            "+--------------------+\n",
            "\n"
          ]
        }
      ]
    },
    {
      "cell_type": "markdown",
      "source": [
        "Inside show if we use truncate = False then it will print complete data instead of above show statement."
      ],
      "metadata": {
        "id": "Ndog2yCmGKFs"
      }
    },
    {
      "cell_type": "code",
      "source": [
        "# from os import truncate\n",
        "df_raw.show(truncate = False)"
      ],
      "metadata": {
        "id": "JlY6GrpJGVFZ",
        "outputId": "1a6509fd-a8d7-4abb-9b83-4500529e3935",
        "colab": {
          "base_uri": "https://localhost:8080/"
        }
      },
      "execution_count": 7,
      "outputs": [
        {
          "output_type": "stream",
          "name": "stdout",
          "text": [
            "+------------------------------------------------------------+\n",
            "|value                                                       |\n",
            "+------------------------------------------------------------+\n",
            "|simon has a dog and a cat the dog and cat used to love simon|\n",
            "+------------------------------------------------------------+\n",
            "\n"
          ]
        }
      ]
    },
    {
      "cell_type": "markdown",
      "source": [
        "Now we need to count the repetition of each word so for that 1st we need to split this sentence into words"
      ],
      "metadata": {
        "id": "I2OICtPaHcHg"
      }
    },
    {
      "cell_type": "markdown",
      "source": [
        "So we will import split function."
      ],
      "metadata": {
        "id": "492Ri_oiIK7t"
      }
    },
    {
      "cell_type": "code",
      "source": [
        "from pyspark.sql.functions import split"
      ],
      "metadata": {
        "id": "JyU_7R5wIeWN"
      },
      "execution_count": 9,
      "outputs": []
    },
    {
      "cell_type": "code",
      "source": [
        "df_words = df_raw.withColumn('words',split('value',' '))"
      ],
      "metadata": {
        "id": "3x60XzvhHYJW"
      },
      "execution_count": 10,
      "outputs": []
    },
    {
      "cell_type": "code",
      "source": [
        "df_words.show(truncate = False)"
      ],
      "metadata": {
        "id": "0vG4um2KIk2z",
        "outputId": "4031f136-6938-43a2-b8a6-fd649b3c575c",
        "colab": {
          "base_uri": "https://localhost:8080/"
        }
      },
      "execution_count": 11,
      "outputs": [
        {
          "output_type": "stream",
          "name": "stdout",
          "text": [
            "+------------------------------------------------------------+----------------------------------------------------------------------------+\n",
            "|value                                                       |words                                                                       |\n",
            "+------------------------------------------------------------+----------------------------------------------------------------------------+\n",
            "|simon has a dog and a cat the dog and cat used to love simon|[simon, has, a, dog, and, a, cat, the, dog, and, cat, used, to, love, simon]|\n",
            "+------------------------------------------------------------+----------------------------------------------------------------------------+\n",
            "\n"
          ]
        }
      ]
    },
    {
      "cell_type": "markdown",
      "source": [
        "now we need to explode the list into seperate words."
      ],
      "metadata": {
        "id": "JlUFE1nFIwlf"
      }
    },
    {
      "cell_type": "markdown",
      "source": [
        "So for that we need to import explode."
      ],
      "metadata": {
        "id": "kgN6HZGVI3z4"
      }
    },
    {
      "cell_type": "code",
      "source": [
        "from pyspark.sql.functions import explode"
      ],
      "metadata": {
        "id": "1PgF19-XIo-8"
      },
      "execution_count": 12,
      "outputs": []
    },
    {
      "cell_type": "code",
      "source": [
        "df_explode = df_words.withColumn('word',explode('words'))\n",
        "df_explode.show(truncate = False)"
      ],
      "metadata": {
        "id": "7MkBpoEfJAq9",
        "outputId": "5a53f1ff-a5b9-4f04-8fc2-eaf6fe00701e",
        "colab": {
          "base_uri": "https://localhost:8080/"
        }
      },
      "execution_count": 13,
      "outputs": [
        {
          "output_type": "stream",
          "name": "stdout",
          "text": [
            "+------------------------------------------------------------+----------------------------------------------------------------------------+-----+\n",
            "|value                                                       |words                                                                       |word |\n",
            "+------------------------------------------------------------+----------------------------------------------------------------------------+-----+\n",
            "|simon has a dog and a cat the dog and cat used to love simon|[simon, has, a, dog, and, a, cat, the, dog, and, cat, used, to, love, simon]|simon|\n",
            "|simon has a dog and a cat the dog and cat used to love simon|[simon, has, a, dog, and, a, cat, the, dog, and, cat, used, to, love, simon]|has  |\n",
            "|simon has a dog and a cat the dog and cat used to love simon|[simon, has, a, dog, and, a, cat, the, dog, and, cat, used, to, love, simon]|a    |\n",
            "|simon has a dog and a cat the dog and cat used to love simon|[simon, has, a, dog, and, a, cat, the, dog, and, cat, used, to, love, simon]|dog  |\n",
            "|simon has a dog and a cat the dog and cat used to love simon|[simon, has, a, dog, and, a, cat, the, dog, and, cat, used, to, love, simon]|and  |\n",
            "|simon has a dog and a cat the dog and cat used to love simon|[simon, has, a, dog, and, a, cat, the, dog, and, cat, used, to, love, simon]|a    |\n",
            "|simon has a dog and a cat the dog and cat used to love simon|[simon, has, a, dog, and, a, cat, the, dog, and, cat, used, to, love, simon]|cat  |\n",
            "|simon has a dog and a cat the dog and cat used to love simon|[simon, has, a, dog, and, a, cat, the, dog, and, cat, used, to, love, simon]|the  |\n",
            "|simon has a dog and a cat the dog and cat used to love simon|[simon, has, a, dog, and, a, cat, the, dog, and, cat, used, to, love, simon]|dog  |\n",
            "|simon has a dog and a cat the dog and cat used to love simon|[simon, has, a, dog, and, a, cat, the, dog, and, cat, used, to, love, simon]|and  |\n",
            "|simon has a dog and a cat the dog and cat used to love simon|[simon, has, a, dog, and, a, cat, the, dog, and, cat, used, to, love, simon]|cat  |\n",
            "|simon has a dog and a cat the dog and cat used to love simon|[simon, has, a, dog, and, a, cat, the, dog, and, cat, used, to, love, simon]|used |\n",
            "|simon has a dog and a cat the dog and cat used to love simon|[simon, has, a, dog, and, a, cat, the, dog, and, cat, used, to, love, simon]|to   |\n",
            "|simon has a dog and a cat the dog and cat used to love simon|[simon, has, a, dog, and, a, cat, the, dog, and, cat, used, to, love, simon]|love |\n",
            "|simon has a dog and a cat the dog and cat used to love simon|[simon, has, a, dog, and, a, cat, the, dog, and, cat, used, to, love, simon]|simon|\n",
            "+------------------------------------------------------------+----------------------------------------------------------------------------+-----+\n",
            "\n"
          ]
        }
      ]
    },
    {
      "cell_type": "markdown",
      "source": [
        "Now we have got all the words inside the text file in word column so we wiil drop rest of the columns."
      ],
      "metadata": {
        "id": "KRq3lNsRJQTr"
      }
    },
    {
      "cell_type": "code",
      "source": [
        "df_explode = df_explode.drop('value','words')\n",
        "df_explode.show(truncate = False)"
      ],
      "metadata": {
        "id": "IyilUWqLJWwl",
        "outputId": "62b07b11-b1fb-4dc4-ef79-5959a2cb5556",
        "colab": {
          "base_uri": "https://localhost:8080/"
        }
      },
      "execution_count": 14,
      "outputs": [
        {
          "output_type": "stream",
          "name": "stdout",
          "text": [
            "+-----+\n",
            "|word |\n",
            "+-----+\n",
            "|simon|\n",
            "|has  |\n",
            "|a    |\n",
            "|dog  |\n",
            "|and  |\n",
            "|a    |\n",
            "|cat  |\n",
            "|the  |\n",
            "|dog  |\n",
            "|and  |\n",
            "|cat  |\n",
            "|used |\n",
            "|to   |\n",
            "|love |\n",
            "|simon|\n",
            "+-----+\n",
            "\n"
          ]
        }
      ]
    },
    {
      "cell_type": "markdown",
      "source": [
        "Now we will count the no_of occurances of each word.\n",
        "\n",
        "For that we need to use groupBy and agg functions"
      ],
      "metadata": {
        "id": "F7VLczQyJiCv"
      }
    },
    {
      "cell_type": "code",
      "source": [
        "# from pyspark.sql.functions import count\n",
        "df_agg = df_explode.groupBy('word').agg(count('*').alias('word_count'))\n",
        "df_agg.show(truncate = False)"
      ],
      "metadata": {
        "id": "yOSeiKhTJhJu",
        "outputId": "9970bdd4-51e8-4c1c-e65f-72e822454999",
        "colab": {
          "base_uri": "https://localhost:8080/"
        }
      },
      "execution_count": 22,
      "outputs": [
        {
          "output_type": "stream",
          "name": "stdout",
          "text": [
            "+-----+----------+\n",
            "|word |word_count|\n",
            "+-----+----------+\n",
            "|used |1         |\n",
            "|simon|2         |\n",
            "|dog  |2         |\n",
            "|love |1         |\n",
            "|cat  |2         |\n",
            "|the  |1         |\n",
            "|and  |2         |\n",
            "|a    |2         |\n",
            "|has  |1         |\n",
            "|to   |1         |\n",
            "+-----+----------+\n",
            "\n"
          ]
        }
      ]
    },
    {
      "cell_type": "code",
      "source": [
        "Spark = (\n",
        "    SparkSession\n",
        "    .builder\n",
        "    .appName('temp')\n",
        "    .config('spark.')\n",
        ")"
      ],
      "metadata": {
        "id": "U6KzQ0YzR5Tz"
      },
      "execution_count": null,
      "outputs": []
    }
  ],
  "metadata": {
    "colab": {
      "name": "Welcome To Colab",
      "provenance": [],
      "include_colab_link": true
    },
    "kernelspec": {
      "display_name": "Python 3",
      "name": "python3"
    }
  },
  "nbformat": 4,
  "nbformat_minor": 0
}